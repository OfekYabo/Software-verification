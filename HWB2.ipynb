{
 "cells": [
  {
   "cell_type": "markdown",
   "metadata": {
    "id": "Y7m1EiJdz3Wk"
   },
   "source": [
    "# Bonus Assignment 2: Buchi Automata Operations\n",
    "\n",
    "In this bonus assignment, you will extend your implementation of `FiniteAutomaton` with several useful methods. Each method corresponds to an operation on Buchi automata. The provided methods are helpful for performing analysis and transformations in automata theory.\n",
    "\n",
    "Be sure to test your implementations thoroughly. Example test cases are provided for each part.\n",
    "\n",
    "---"
   ]
  },
  {
   "cell_type": "code",
   "execution_count": null,
   "metadata": {
    "ExecuteTime": {
     "end_time": "2025-06-22T18:01:57.835453Z",
     "start_time": "2025-06-22T18:01:57.242412Z"
    }
   },
   "outputs": [],
   "source": [
    "import sys\n",
    "import otter\n",
    "\n",
    "# try:\n",
    "#     import otter\n",
    "# except ImportError:\n",
    "#     %pip install otter-grader\n",
    "#     import otter\n",
    "\n",
    "grader = otter.Notebook(\"HWB2.ipynb\")"
   ]
  },
  {
   "cell_type": "markdown",
   "metadata": {},
   "source": [
    "## Task 1: Reachable States"
   ]
  },
  {
   "cell_type": "markdown",
   "metadata": {},
   "source": [
    "### Method\n",
    "```python\n",
    "def reach(self) -> Set[State]:\n",
    "        \"\"\"\n",
    "        Constructs the sub-automaton of reachable components from initial to accepting states.\n",
    "\n",
    "        :return: A new finite automaton restricted to reachable components.\n",
    "        \"\"\"\n",
    "```"
   ]
  },
  {
   "cell_type": "markdown",
   "metadata": {},
   "source": [
    "### Description\n",
    "\n",
    "This method should return the set of all states that can be reached from any initial state using zero or more transitions.\n"
   ]
  },
  {
   "cell_type": "markdown",
   "metadata": {},
   "source": [
    "### Example\n",
    "\n",
    "If the automaton has transitions:\n",
    "\n",
    "```\n",
    "s0 --a--> s1\n",
    "s1 --b--> s2\n",
    "```\n",
    "\n",
    "and initial state is `s0`, and accepting state is `s1`, then `reach()` should return `{s0, s1}`.\n",
    "\n",
    "---"
   ]
  },
  {
   "cell_type": "markdown",
   "metadata": {},
   "source": [
    "## Task 2: Closure Under Transitions"
   ]
  },
  {
   "cell_type": "markdown",
   "metadata": {},
   "source": [
    "### Method\n",
    "```python\n",
    "def closure(self, S: Set[State]) -> Set[State]:\n",
    "    \"\"\"\n",
    "    Returns the closure automaton.\n",
    "\n",
    "    :return: A new NBA A' where L_omega(A') = closure(L_omega(A)).\n",
    "    \"\"\"\n",
    "```\n",
    "\n",
    "---"
   ]
  },
  {
   "cell_type": "markdown",
   "metadata": {},
   "source": [
    "## Task 3: Complement Automaton\n"
   ]
  },
  {
   "cell_type": "markdown",
   "metadata": {},
   "source": [
    "### Method\n",
    "```python\n",
    "def complement(self) -> \"FiniteAutomaton\":\n",
    "    \"\"\"\n",
    "    Constructs an automaton that accepts the complement of the current language.\n",
    "\n",
    "    :return: The complement automaton.\n",
    "    \"\"\"\n",
    "```"
   ]
  },
  {
   "cell_type": "markdown",
   "metadata": {},
   "source": [
    "### Complementing Büchi Automata\n",
    "\n",
    "Complementing a Büchi automaton is a known difficult problem in automata theory.tly.\n",
    "\n",
    "To simplify the task for this assignment, we make the following **assumption**:\n",
    "\n",
    "> The given Büchi automaton represents a **safety property**.\n",
    "\n",
    "This assumption enables a more straightforward construction:\n",
    "\n",
    "You are tasked to introduce a new state named `__qfinal__`, which serves as a \"sink\" or \"trap\" state. For any state in the original automaton that lacks a transition for a given symbol, a new transition can be added to `__qfinal__` under that symbol. The `__qfinal__` state should then include self-loops for all symbols in the alphabet and be marked as accepting, ensuring that any trace violating the original safety property is accepted by the complement.\n",
    "\n",
    "---\n"
   ]
  },
  {
   "cell_type": "markdown",
   "metadata": {},
   "source": [
    "## Task 4: Union\n"
   ]
  },
  {
   "cell_type": "markdown",
   "metadata": {},
   "source": [
    "### Method\n",
    "```python\n",
    "def union(self, A: \"FiniteAutomaton\") -> \"FiniteAutomaton\":\n",
    "    \"\"\"\n",
    "    Constructs the union of this automaton with another.\n",
    "\n",
    "    :param A: Another finite automaton.\n",
    "    :return: A new automaton accepting the union language.\n",
    "    \"\"\"\n",
    "```"
   ]
  },
  {
   "cell_type": "markdown",
   "metadata": {},
   "source": [
    "### ☯️ Union of Two Büchi Automata\n",
    "\n",
    "The **union** of two Büchi Automata \\( A_1 \\) and \\( A_2 \\) accepts all infinite words accepted by **either** \\( A_1 \\) or \\( A_2 \\).\n",
    "\n",
    "When implementing the union, **you must ensure that the states of the two automata remain distinct**, even if they happen to share the same name (e.g., both contain a state `\"q0\"`).\n",
    "\n",
    "To solve this, represent each state in the resulting automaton as a tuple:\n",
    "```\n",
    "(state, index)\n",
    "```\n",
    "- `state`: the original state name from either automaton\n",
    "- `index`:\n",
    "  - `1` if the state comes from `self` (the current automaton),\n",
    "  - `2` if it comes from `A` (the other automaton passed to the method)\n",
    "\n",
    "This ensures that `(\"q0\", 1)` and `(\"q0\", 2)` are treated as distinct states in the union, avoiding accidental collisions.\n",
    "\n",
    "---"
   ]
  },
  {
   "cell_type": "markdown",
   "metadata": {},
   "source": [
    "## Task 5: Decomposition into Safety and Liveness\n"
   ]
  },
  {
   "cell_type": "markdown",
   "metadata": {},
   "source": [
    "### Method\n",
    "```python\n",
    "def decompose(self) -> Tuple[\"FiniteAutomaton\", \"FiniteAutomaton\"]:\n",
    "    \"\"\"\n",
    "    Decomposes the automaton into safe and live components.\n",
    "\n",
    "    :return: A tuple (A_safe, A_live).\n",
    "    \"\"\"\n",
    "```\n"
   ]
  },
  {
   "cell_type": "markdown",
   "metadata": {},
   "source": [
    "### Background\n",
    "\n",
    "According to the **Decomposition Theorem** in Linear Time Logic, every linear time property can be expressed as the intersection of a **safety property** and a **liveness property**:\n",
    "\n",
    "\\[\n",
    "P = P_{safety} \\cap P_{liveness}\n",
    "\\]\n",
    "\n",
    "- A **safety property** asserts that \"nothing bad happens\" — violations can be detected by a finite prefix.\n",
    "- A **liveness property** asserts that \"something good eventually happens\" — no finite prefix can conclusively show a violation.\n",
    "\n",
    "Decomposing an automaton into these two components helps isolate bugs and prove different aspects of correctness.\n"
   ]
  },
  {
   "cell_type": "markdown",
   "metadata": {},
   "source": [
    "### Example\n",
    "\n",
    "```python\n",
    "P = FiniteAutomaton(\n",
    "  states={'p', 'y', 'x', 'q'},\n",
    "  alphabet={'b', 'a'},\n",
    "  transitions={('x', 'true', 'y'), ('q', 'a', 'q'), ('y', 'true', 'y'), ('p', 'true', 'p'), ('q', 'b', 'p')},\n",
    "  initial_states={'x', 'q'},\n",
    "  accepting_states={'p'}\n",
    ")\n",
    "```\n",
    "\n",
    "```python\n",
    "P_Safe = FiniteAutomaton(\n",
    "  states={'p', 'q'},\n",
    "  alphabet={'b', 'a'},\n",
    "  transitions={('q', 'a', 'q'), ('p', 'true', 'p'), ('q', 'b', 'p')},\n",
    "  initial_states={'q'},\n",
    "  accepting_states={'p', 'q'},\n",
    ")\n",
    "```\n",
    "\n",
    "```python\n",
    "P_Live = FiniteAutomaton(\n",
    "  states={('p', 2), ('___qfinal___', 2), ('p', 1), ('q', 1), ('q', 2)},\n",
    "  alphabet={'b', 'a'},\n",
    "  transitions={(('___qfinal___', 2), 'True', ('___qfinal___', 2)), (('q', 1), 'b', ('p', 1)), (('p', 1), 'true', ('p', 1)), (('q', 2), 'not((b) or (a))', ('___qfinal___', 2)), (('p', 2), 'not((true))', ('___qfinal___', 2)), (('p', 2), 'true', ('p', 2)), (('q', 2), 'a', ('q', 2)), (('q', 1), 'a', ('q', 1)), (('q', 2), 'b', ('p', 2))},\n",
    "  initial_states={('q', 1), ('q', 2)},\n",
    "  accepting_states={('___qfinal___', 2), ('p', 1)}\n",
    ")\n",
    "```\n"
   ]
  },
  {
   "cell_type": "markdown",
   "metadata": {},
   "source": [
    "## Code:"
   ]
  },
  {
   "cell_type": "code",
   "execution_count": null,
   "metadata": {
    "ExecuteTime": {
     "end_time": "2025-06-22T18:01:57.949600Z",
     "start_time": "2025-06-22T18:01:57.880107Z"
    },
    "tags": [
     "otter_answer_cell"
    ]
   },
   "outputs": [],
   "source": [
    "import os\n",
    "from typing import Set, Tuple, Optional, Union\n",
    "\n",
    "import networkx as nx\n",
    "from graphviz import Digraph\n",
    "\n",
    "State = Union[str, Tuple]\n",
    "Symbol = str\n",
    "Transition = Tuple[State, Symbol, State]\n",
    "\n",
    "\n",
    "class FiniteAutomaton:\n",
    "    \"\"\"\n",
    "    A finite automaton (NFA-style) representation.\n",
    "\n",
    "    Attributes:\n",
    "        Q (Set[State]): The set of all states.\n",
    "        Sigma (Set[Symbol]): The input alphabet (symbols).\n",
    "        Transitions (Set[Transition]): Transitions labeled with symbols.\n",
    "        Q0 (Set[State]): The set of initial states.\n",
    "        F (Set[State]): The set of accepting (final) states.\n",
    "    \"\"\"\n",
    "\n",
    "    def __init__(\n",
    "        self,\n",
    "        states: Optional[Set[State]] = None,\n",
    "        alphabet: Optional[Set[Symbol]] = None,\n",
    "        transitions: Optional[Set[Transition]] = None,\n",
    "        initial_states: Optional[Set[State]] = None,\n",
    "        accepting_states: Optional[Set[State]] = None,\n",
    "    ) -> None:\n",
    "        \"\"\"\n",
    "        Initializes the finite automaton.\n",
    "\n",
    "        :param states: A set of states. Defaults to an empty set.\n",
    "        :param alphabet: A set of input symbols. Defaults to an empty set.\n",
    "        :param transitions: A set of transitions, each as (state_from, symbol, state_to).\n",
    "        :param initial_states: A set of initial states. Defaults to an empty set.\n",
    "        :param accepting_states: A set of accepting states. Defaults to an empty set.\n",
    "        \"\"\"\n",
    "        self.Q: Set[State] = set(states) if states is not None else set()\n",
    "        self.Sigma: Set[Symbol] = set(alphabet) if alphabet is not None else set()\n",
    "        self.Transitions: Set[Transition] = set(transitions) if transitions is not None else set()\n",
    "        self.Q0: Set[State] = set(initial_states) if initial_states is not None else set()\n",
    "        self.F: Set[State] = set(accepting_states) if accepting_states is not None else set()\n",
    "\n",
    "    def add_state(self, *states: State) -> \"FiniteAutomaton\":\n",
    "        \"\"\"\n",
    "        Adds one or more states to the automaton.\n",
    "\n",
    "        :param states: One or more states to add.\n",
    "        :return: The updated automaton.\n",
    "        \"\"\"\n",
    "        self.Q.update(states)\n",
    "        return self\n",
    "\n",
    "    def add_symbol(self, *symbols: Symbol) -> \"FiniteAutomaton\":\n",
    "        \"\"\"\n",
    "        Adds one or more symbols to the input alphabet.\n",
    "\n",
    "        :param symbols: One or more symbols to add.\n",
    "        :return: The updated automaton.\n",
    "        \"\"\"\n",
    "        self.Sigma.update(symbols)\n",
    "        return self\n",
    "\n",
    "    def add_transition(self, *transitions: Transition) -> \"FiniteAutomaton\":\n",
    "        \"\"\"\n",
    "        Adds one or more transitions to the automaton.\n",
    "\n",
    "        :param transitions: Transitions in the form (state_from, symbol, state_to).\n",
    "        :return: The updated automaton.\n",
    "        :raises ValueError: If states or symbols are not defined in the automaton.\n",
    "        \"\"\"\n",
    "        for transition in transitions:\n",
    "            if not isinstance(transition, tuple) or len(transition) != 3:\n",
    "                raise ValueError(f\"Invalid transition format: {transition}. Expected (state_from, symbol, state_to).\")\n",
    "            state_from, symbol, state_to = transition\n",
    "            if state_from not in self.Q or state_to not in self.Q:\n",
    "                raise ValueError(\"Transition states must be in the state set.\")\n",
    "            if symbol not in self.Sigma:\n",
    "                raise ValueError(\"Transition symbol must be in the alphabet.\")\n",
    "            self.Transitions.add(transition)\n",
    "        return self\n",
    "\n",
    "    def add_initial_state(self, *states: State) -> \"FiniteAutomaton\":\n",
    "        \"\"\"\n",
    "        Adds one or more initial states.\n",
    "\n",
    "        :param states: States to mark as initial.\n",
    "        :return: The updated automaton.\n",
    "        :raises ValueError: If any state is not in the automaton's state set.\n",
    "        \"\"\"\n",
    "        for state in states:\n",
    "            if state not in self.Q:\n",
    "                raise ValueError(\"Initial state must be in the state set.\")\n",
    "            self.Q0.add(state)\n",
    "        return self\n",
    "\n",
    "    def add_accepting_state(self, *states: State) -> \"FiniteAutomaton\":\n",
    "        \"\"\"\n",
    "        Adds one or more accepting (final) states.\n",
    "\n",
    "        :param states: States to mark as accepting.\n",
    "        :return: The updated automaton.\n",
    "        :raises ValueError: If any state is not in the automaton's state set.\n",
    "        \"\"\"\n",
    "        for state in states:\n",
    "            if state not in self.Q:\n",
    "                raise ValueError(\"Accepting state must be in the state set.\")\n",
    "            self.F.add(state)\n",
    "        return self\n",
    "\n",
    "    def actions(self, q: State) -> Set[Symbol]:\n",
    "        \"\"\"\n",
    "        Returns the set of symbols that can be used to transition from state q.\n",
    "\n",
    "        :param q: The state from which to get the actions.\n",
    "        :return: A set of symbols that can be used to transition from state q.\n",
    "        \"\"\"\n",
    "        return {symbol for (state_from, symbol, state_to) in self.Transitions if state_from == q}\n",
    "\n",
    "    def reach(self) -> \"FiniteAutomaton\":\n",
    "        \"\"\"\n",
    "        Constructs the sub-automaton of reachable components from initial to accepting states.\n",
    "\n",
    "        :return: A new finite automaton restricted to reachable components.\n",
    "        \"\"\"\n",
    "        ...\n",
    "\n",
    "    def closure(self) -> \"FiniteAutomaton\":\n",
    "        \"\"\"\n",
    "        Returns the closure automaton.\n",
    "\n",
    "        :return: A new NBA A' where L_omega(A') = closure(L_omega(A)).\n",
    "        \"\"\"\n",
    "        ...\n",
    "\n",
    "    def complement(self) -> \"FiniteAutomaton\":\n",
    "        \"\"\"\n",
    "        Constructs an automaton that accepts the complement of the current language. The current language is assumed to be a safety property.\n",
    "\n",
    "        :return: The complement automaton.\n",
    "        \"\"\"\n",
    "        ...\n",
    "\n",
    "    def union(self, A: \"FiniteAutomaton\") -> \"FiniteAutomaton\":\n",
    "        \"\"\"\n",
    "        Constructs the union of this automaton with another.\n",
    "\n",
    "        :param A: Another finite automaton.\n",
    "        :return: A new automaton accepting the union language.\n",
    "        \"\"\"\n",
    "        ...\n",
    "\n",
    "    def decompose(self) -> Tuple[\"FiniteAutomaton\", \"FiniteAutomaton\"]:\n",
    "        \"\"\"\n",
    "        Decomposes the automaton into safe and live components.\n",
    "\n",
    "        :return: A tuple (A_safe, A_live).\n",
    "        \"\"\"\n",
    "        ...\n",
    "\n",
    "    def __repr__(self) -> str:\n",
    "        return (\n",
    "            f\"FiniteAutomaton(\\n\"\n",
    "            f\"  states={self.Q},\\n\"\n",
    "            f\"  alphabet={self.Sigma},\\n\"\n",
    "            f\"  transitions={self.Transitions},\\n\"\n",
    "            f\"  initial_states={self.Q0},\\n\"\n",
    "            f\"  accepting_states={self.F}\\n\"\n",
    "            f\")\"\n",
    "        )\n",
    "\n",
    "    def to_graphviz(self, name: str = \"FA\", format: str = \"pdf\", view: bool = True, filename: Optional[str] = None) -> None:\n",
    "        \"\"\"\n",
    "        Visualizes the finite automaton using Graphviz.\n",
    "\n",
    "        :param name: Name of the Graphviz graph.\n",
    "        :param format: Output file format (e.g., 'pdf', 'png', 'svg').\n",
    "        :param view: Whether to open the output file after rendering.\n",
    "        :param filename: Optional filename (without extension). If None, uses name.\n",
    "        \"\"\"\n",
    "        dot = Digraph(name=name, format=format)\n",
    "        dot.attr(rankdir=\"LR\", size=\"8,5\")\n",
    "\n",
    "        # Invisible initial node for pointing to real initial states\n",
    "        dot.node(\"\", shape=\"none\")\n",
    "\n",
    "        for state in self.Q:\n",
    "            shape = \"doublecircle\" if state in self.F else \"circle\"\n",
    "            dot.node(str(state), shape=shape)\n",
    "\n",
    "        for q0 in self.Q0:\n",
    "            dot.edge(\"\", str(q0))\n",
    "\n",
    "        for (s, a, t) in self.Transitions:\n",
    "            dot.edge(str(s), str(t), label=str(a))\n",
    "\n",
    "        output_file = filename if filename is not None else name\n",
    "        dot.render(output_file, view=view, cleanup=True)"
   ]
  },
  {
   "cell_type": "code",
   "execution_count": null,
   "metadata": {
    "deletable": false,
    "editable": false
   },
   "outputs": [],
   "source": [
    "grader.check(\"q1\")"
   ]
  },
  {
   "cell_type": "markdown",
   "metadata": {
    "deletable": false,
    "editable": false
   },
   "source": [
    "## Submission\n",
    "\n",
    "Make sure you have run all cells in your notebook in order before running the cell below, so that all images/graphs appear in the output. The cell below will generate a zip file for you to submit. **Please save before exporting!**"
   ]
  },
  {
   "cell_type": "code",
   "execution_count": null,
   "metadata": {
    "deletable": false,
    "editable": false
   },
   "outputs": [],
   "source": [
    "# Save your notebook first, then run this cell to export your submission.\n",
    "grader.export(pdf=False)"
   ]
  },
  {
   "cell_type": "markdown",
   "metadata": {},
   "source": [
    " "
   ]
  }
 ],
 "metadata": {
  "kernelspec": {
   "display_name": "Python 3",
   "language": "python",
   "name": "python3"
  },
  "language_info": {
   "codemirror_mode": {
    "name": "ipython",
    "version": 3
   },
   "file_extension": ".py",
   "mimetype": "text/x-python",
   "name": "python",
   "nbconvert_exporter": "python",
   "pygments_lexer": "ipython3",
   "version": "3.11.0"
  },
  "otter": {
   "OK_FORMAT": true,
   "assignment_name": "hwb02,",
   "tests": {
    "q1": {
     "name": "q1",
     "points": null,
     "suites": [
      {
       "cases": [
        {
         "code": ">>> def test_reach1():\n...     p = FiniteAutomaton(states={'s0', 's1', 's2'}, alphabet={'a'}, transitions={('s0', 'a', 's1'), ('s1', 'a', 's2')}, initial_states={'s0'}, accepting_states={'s1'})\n...     assert 's2' not in p.reach().Q\n>>> def test_reach2():\n...     p = FiniteAutomaton(states={'q', 'p', 'x', 'y'}, alphabet={'a', 'b'}, transitions={('q', 'a', 'q'), ('q', 'b', 'p'), ('p', 'true', 'p'), ('x', 'true', 'y'), ('y', 'true', 'y')}, initial_states={'q', 'x'}, accepting_states={'p'})\n...     p = p.reach()\n...     assert 'x' not in p.Q\n...     assert 'y' not in p.Q\n...     assert 'x' not in p.Q0\n...     assert p.F == {'p'}\n>>> def test_closure():\n...     p = FiniteAutomaton(states={'q', 'p', 'x', 'y'}, alphabet={'a', 'b'}, transitions={('q', 'a', 'q'), ('q', 'b', 'p'), ('p', 'true', 'p'), ('x', 'true', 'y'), ('y', 'true', 'y')}, initial_states={'q', 'x'}, accepting_states={'p'})\n...     p = p.reach()\n...     clp = p.closure()\n...     assert clp.Q == p.Q\n...     assert clp.F == p.Q\n>>> def test_complement():\n...     p = FiniteAutomaton(states={'q', 'p', 'x', 'y'}, alphabet={'a', 'b'}, transitions={('q', 'a', 'q'), ('q', 'b', 'p'), ('p', 'true', 'p'), ('x', 'true', 'y'), ('y', 'true', 'y')}, initial_states={'q', 'x'}, accepting_states={'p'})\n...     p = p.reach()\n...     clp = p.closure()\n...     cclp = clp.complement()\n...     assert cclp.F == {'___qfinal___'}\n...     assert cclp.Q0 == p.Q0\n...     assert cclp.Q == p.Q | {'___qfinal___'}\n>>> def test_union():\n...     p1 = FiniteAutomaton(states={'q1', 'p1'}, alphabet={'a', 'b'}, transitions={('q1', 'a', 'p1'), ('p1', 'b', 'q1')}, initial_states={'q1'}, accepting_states={'p1'})\n...     p2 = FiniteAutomaton(states={'q2', 'p2'}, alphabet={'a', 'b'}, transitions={('q2', 'a', 'p2'), ('p2', 'b', 'q2')}, initial_states={'q2'}, accepting_states={'p2'})\n...     union = p1.union(p2)\n...     assert len(union.Q) == 4\n...     assert len(union.Transitions) == 4\n...     assert union.Q0 == {('q1', 1), ('q2', 2)}\n...     assert union.F == {('p1', 1), ('p2', 2)}\n>>> def test_decompose():\n...     p = FiniteAutomaton(states={'q', 'p', 'x', 'y'}, alphabet={'a', 'b'}, transitions={('q', 'a', 'q'), ('q', 'b', 'p'), ('p', 'true', 'p'), ('x', 'true', 'y'), ('y', 'true', 'y')}, initial_states={'q', 'x'}, accepting_states={'p'})\n...     p = p.reach()\n...     (A_safe, A_live) = p.decompose()\n...     assert A_safe.Q == {'p', 'q'}\n...     assert A_live.Q == {('p', 2), ('___qfinal___', 2), ('p', 1), ('q', 1), ('q', 2)}\n...     assert A_live.F == {('___qfinal___', 2), ('p', 1)}\n>>> test_reach1()\n>>> test_reach2()\n>>> test_closure()\n>>> test_complement()\n>>> test_union()\n>>> test_decompose()\n",
         "hidden": false,
         "locked": false
        }
       ],
       "scored": true,
       "setup": "",
       "teardown": "",
       "type": "doctest"
      }
     ]
    }
   }
  }
 },
 "nbformat": 4,
 "nbformat_minor": 0
}
